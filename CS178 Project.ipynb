{
 "cells": [
  {
   "cell_type": "code",
   "execution_count": 9,
   "metadata": {},
   "outputs": [
    {
     "name": "stdout",
     "output_type": "stream",
     "text": [
      "0.581070720255 training error: 0.0067 validation error: 0.3766\n",
      "0.601888168655 training error: 0.0067 validation error: 0.3767\n",
      "0.61215078226 training error: 0.0066 validation error: 0.3625\n",
      "0.614421689826 training error: 0.0066 validation error: 0.3584\n",
      "0.622033191504 training error: 0.0066 validation error: 0.3507\n",
      "0.626368084465 training error: 0.0066 validation error: 0.3402\n",
      "0.627814317527 training error: 0.0066 validation error: 0.3387\n"
     ]
    }
   ],
   "source": [
    "import numpy as np\n",
    "from sklearn import neighbors\n",
    "from sklearn import metrics\n",
    "\n",
    "X = np.genfromtxt('data/X_train.txt', delimiter=None)\n",
    "Y = np.genfromtxt('data/Y_train.txt', delimiter=None)\n",
    "\n",
    "Xtr = X[:10000,:]\n",
    "Ytr = Y[:10000]\n",
    "\n",
    "Xval = X[10000:20000]\n",
    "Yval = Y[10000:20000]\n",
    "\n",
    "knnN = [1, 2, 3, 5, 10, 15, 20]\n",
    "for n in knnN:\n",
    "    knnClassifier = neighbors.KNeighborsClassifier(n_neighbors=n, weights=\"distance\", n_jobs=-1)\n",
    "    knnClassifier.fit(Xtr, Ytr)\n",
    "\n",
    "    Yhat = knnClassifier.predict_proba(Xval)[:,1]\n",
    "\n",
    "    print(\"ROC :\" metrics.roc_auc_score(Yval, Yhat), \"Training error: \", 1 - knnClassifier.score(Xtr, Ytr), \"Validation error: \", 1 - knnClassifier.score(Xval, Yval))\n",
    "\n",
    "\n",
    "\n"
   ]
  },
  {
   "cell_type": "code",
   "execution_count": null,
   "metadata": {
    "collapsed": true
   },
   "outputs": [],
   "source": []
  }
 ],
 "metadata": {
  "kernelspec": {
   "display_name": "Python 3",
   "language": "python",
   "name": "python3"
  },
  "language_info": {
   "codemirror_mode": {
    "name": "ipython",
    "version": 3
   },
   "file_extension": ".py",
   "mimetype": "text/x-python",
   "name": "python",
   "nbconvert_exporter": "python",
   "pygments_lexer": "ipython3",
   "version": "3.6.3"
  }
 },
 "nbformat": 4,
 "nbformat_minor": 2
}
