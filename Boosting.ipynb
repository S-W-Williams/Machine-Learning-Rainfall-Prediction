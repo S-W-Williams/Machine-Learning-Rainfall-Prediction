{
 "cells": [
  {
   "cell_type": "code",
   "execution_count": 1,
   "metadata": {},
   "outputs": [],
   "source": [
    "import numpy as np\n",
    "from sklearn import neighbors\n",
    "from sklearn import metrics\n",
    "from sklearn.utils import shuffle\n",
    "from sklearn.metrics import mean_squared_error\n",
    "from sklearn.model_selection import train_test_split\n",
    "import matplotlib.pyplot as plt\n",
    "\n",
    "X = np.genfromtxt('data/X_train.txt', delimiter=None)\n",
    "Y = np.genfromtxt('data/Y_train.txt', delimiter=None)\n",
    "Xte = np.genfromtxt('data/X_test.txt', delimiter=None)\n",
    "\n",
    "Xtr, Xval, Ytr, Yval = train_test_split(X, Y, test_size=0.2)"
   ]
  },
  {
   "cell_type": "code",
   "execution_count": 14,
   "metadata": {},
   "outputs": [
    {
     "name": "stdout",
     "output_type": "stream",
     "text": [
      "Training Error:  0.05982500000000002\n",
      "Validation Error : 0.261675\n",
      "AUC : 0.782893345066339\n"
     ]
    }
   ],
   "source": [
    "from sklearn.ensemble import AdaBoostClassifier\n",
    "from sklearn import ensemble\n",
    "\n",
    "rfc = ensemble.RandomForestClassifier(n_estimators=100, max_depth = 20, min_samples_leaf=4, n_jobs=-1, oob_score=True)\n",
    "estimators = []\n",
    "\n",
    "adaC = AdaBoostClassifier(base_estimator=rfc, n_estimators=25)\n",
    "adaC.fit(Xtr, Ytr)\n",
    "Yhat = adaC.predict_proba(Xval)[:,1]\n",
    "\n",
    "trE = 1 - adaC.score(Xtr, Ytr)\n",
    "valE = 1 - adaC.score(Xval, Yval)  \n",
    "adaRoc = metrics.roc_auc_score(Yval, Yhat)\n",
    "\n",
    "print(\"Training Error: \", trE)\n",
    "print(\"Validation Error :\", valE)\n",
    "print(\"AUC :\", adaRoc)"
   ]
  },
  {
   "cell_type": "code",
   "execution_count": null,
   "metadata": {},
   "outputs": [],
   "source": [
    "from sklearn.ensemble import GradientBoostingClassifier\n",
    "\n",
    "clf = GradientBoostingClassifier(n_estimators=2000, learning_rate=1, max_depth=400,max_leaf_nodes=40)\n",
    "gbc.fit(Xtr, Ytr)\n",
    "Yhat = gbc.predict_proba(Xval)[:,1]\n",
    "trE = 1 - gbc.score(Xtr, Ytr)\n",
    "valE = 1 - gbc.score(Xval, Yval)  \n",
    "gbcRoc = metrics.roc_auc_score(Yval, Yhat)\n",
    "print(\"Training Error: \", trE)\n",
    "print(\"Validation Error :\", valE)\n",
    "print(\"AUC :\", gbcRoc)"
   ]
  },
  {
   "cell_type": "code",
   "execution_count": null,
   "metadata": {},
   "outputs": [],
   "source": []
  }
 ],
 "metadata": {
  "kernelspec": {
   "display_name": "Python 3",
   "language": "python",
   "name": "python3"
  },
  "language_info": {
   "codemirror_mode": {
    "name": "ipython",
    "version": 3
   },
   "file_extension": ".py",
   "mimetype": "text/x-python",
   "name": "python",
   "nbconvert_exporter": "python",
   "pygments_lexer": "ipython3",
   "version": "3.6.4"
  }
 },
 "nbformat": 4,
 "nbformat_minor": 2
}
