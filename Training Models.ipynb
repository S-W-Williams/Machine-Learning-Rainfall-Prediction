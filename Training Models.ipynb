{
 "cells": [
  {
   "cell_type": "markdown",
   "metadata": {},
   "source": [
    "# Training Model Examples"
   ]
  },
  {
   "cell_type": "markdown",
   "metadata": {},
   "source": [
    "## Setup"
   ]
  },
  {
   "cell_type": "code",
   "execution_count": 1,
   "metadata": {},
   "outputs": [
    {
     "data": {
      "text/plain": [
       "'\\nXtr = X[:10000,:]\\nYtr = Y[:10000]\\n\\nXval = X[10000:20000]\\nYval = Y[10000:20000]\\n'"
      ]
     },
     "execution_count": 1,
     "metadata": {},
     "output_type": "execute_result"
    }
   ],
   "source": [
    "import numpy as np\n",
    "from sklearn import neighbors\n",
    "from sklearn import metrics\n",
    "from sklearn.utils import shuffle\n",
    "from sklearn.metrics import mean_squared_error\n",
    "from sklearn.model_selection import train_test_split\n",
    "import matplotlib.pyplot as plt\n",
    "\n",
    "X = np.genfromtxt('data/X_train.txt', delimiter=None)\n",
    "Y = np.genfromtxt('data/Y_train.txt', delimiter=None)\n",
    "Xte = np.genfromtxt('data/X_test.txt', delimiter=None)\n",
    "\n",
    "Xtr, Xval, Ytr, Yval = train_test_split(X, Y, test_size=0.2)\n",
    "\n",
    "###X,Y = shuffle(X, Y)\n",
    "\n",
    "'''\n",
    "Xtr = X[:10000,:]\n",
    "Ytr = Y[:10000]\n",
    "\n",
    "Xval = X[10000:20000]\n",
    "Yval = Y[10000:20000]\n",
    "'''"
   ]
  },
  {
   "cell_type": "markdown",
   "metadata": {},
   "source": [
    "## K-Nearest Neighbors"
   ]
  },
  {
   "cell_type": "code",
   "execution_count": 6,
   "metadata": {},
   "outputs": [
    {
     "name": "stdout",
     "output_type": "stream",
     "text": [
      "N : 1 ROC : 0.6563468674976961\n",
      "N : 2 ROC : 0.6973081931514115\n",
      "N : 3 ROC : 0.7125666801229458\n",
      "N : 5 ROC : 0.7225281949795391\n",
      "N : 10 ROC : 0.7246517819660484\n",
      "N : 15 ROC : 0.7233899779707837\n",
      "N : 20 ROC : 0.7214635745563526\n",
      "N : 25 ROC : 0.7203258901495314\n"
     ]
    },
    {
     "data": {
      "image/png": "[encoded data removed]",
      "text/plain": [
       "<matplotlib.figure.Figure at 0x1a8113a3470>"
      ]
     },
     "metadata": {},
     "output_type": "display_data"
    }
   ],
   "source": [
    "import matplotlib.pyplot as plt \n",
    "from sklearn.model_selection import cross_val_score\n",
    "\n",
    "knnN = [1, 2, 3, 5, 10, 15, 20, 25]\n",
    "knnTrainingErrors = []\n",
    "knnValidationErrors = []\n",
    "\n",
    "for n in knnN:\n",
    "    knnClassifier = neighbors.KNeighborsClassifier(n_neighbors=n, weights=\"distance\", n_jobs=-1)\n",
    "    knnClassifier.fit(Xtr, Ytr)\n",
    "\n",
    "    Yhat = knnClassifier.predict_proba(Xval)[:,1]\n",
    "    \n",
    "    trE = 1 - knnClassifier.score(Xtr, Ytr)\n",
    "    knnTrainingErrors.append(trE)\n",
    "    valE = 1 - knnClassifier.score(Xval, Yval)\n",
    "    knnValidationErrors.append(valE)\n",
    "    \n",
    "    knnRoc = metrics.roc_auc_score(Yval, Yhat)\n",
    "    print(\"N :\", n, \"ROC :\", knnRoc)\n",
    "    \n",
    "plt.plot(knnN, knnTrainingErrors, label=\"Training Error\")\n",
    "plt.plot(knnN, knnValidationErrors, label=\"Validation Error\")\n",
    "plt.xlabel('Neighbors')\n",
    "plt.ylabel('Error')\n",
    "plt.show()"
   ]
  },
  {
   "cell_type": "markdown",
   "metadata": {},
   "source": [
    "## Random Forest"
   ]
  },
  {
   "cell_type": "code",
   "execution_count": 23,
   "metadata": {},
   "outputs": [
    {
     "name": "stdout",
     "output_type": "stream",
     "text": [
      "ROC : 0.696520420545\n",
      "Training Error:  0.1295\n",
      "Validation Error:  0.3047\n"
     ]
    }
   ],
   "source": [
    "from sklearn import ensemble\n",
    "\n",
    "rfc = ensemble.RandomForestClassifier(\n",
    "    n_estimators=500, min_samples_leaf=5, n_jobs=-1, oob_score=True)\n",
    "\n",
    "rfc.fit(Xtr, Ytr)\n",
    "\n",
    "rfcRoc = metrics.roc_auc_score(Yval, rfc.predict_proba(Xval)[:,1])\n",
    "\n",
    "print(\"ROC :\", rfcRoc)\n",
    "print(\"Training Error: \", 1 - rfc.score(Xtr, Ytr))\n",
    "print(\"Validation Error: \", 1 - rfc.score(Xval, Yval))"
   ]
  },
  {
   "cell_type": "markdown",
   "metadata": {},
   "source": [
    "## Neural network"
   ]
  },
  {
   "cell_type": "code",
   "execution_count": 17,
   "metadata": {},
   "outputs": [
    {
     "name": "stdout",
     "output_type": "stream",
     "text": [
      "2 Layers \n",
      "('Hidden Nodes: 100, ROC :', 0.54092187127276425, 'Training error: ', 0.57820000000000005, 'Validation error: ', 0.58550000000000002)\n",
      "('Hidden Nodes: 200, ROC :', 0.58012301599838056, 'Training error: ', 0.44769999999999999, 'Validation error: ', 0.44189999999999996)\n",
      "('Hidden Nodes: 300, ROC :', 0.57995811413607923, 'Training error: ', 0.47130000000000005, 'Validation error: ', 0.47450000000000003)\n",
      "('Hidden Nodes: 400, ROC :', 0.54030040259693413, 'Training error: ', 0.35829999999999995, 'Validation error: ', 0.36960000000000004)\n",
      "('Hidden Nodes: 500, ROC :', 0.5963084874896255, 'Training error: ', 0.57679999999999998, 'Validation error: ', 0.56810000000000005)\n",
      "('Hidden Nodes: 600, ROC :', 0.60488946983633851, 'Training error: ', 0.34930000000000005, 'Validation error: ', 0.34699999999999998)\n",
      "('Hidden Nodes: 700, ROC :', 0.52866818656415826, 'Training error: ', 0.33279999999999998, 'Validation error: ', 0.34040000000000004)\n",
      "('Hidden Nodes: 800, ROC :', 0.62594101821122039, 'Training error: ', 0.33919999999999995, 'Validation error: ', 0.34409999999999996)\n",
      "('Hidden Nodes: 900, ROC :', 0.63384174192959608, 'Training error: ', 0.33499999999999996, 'Validation error: ', 0.35219999999999996)\n",
      "('Hidden Nodes: 1000, ROC :', 0.54114022453807387, 'Training error: ', 0.33650000000000002, 'Validation error: ', 0.34589999999999999)\n",
      "3 Layers \n",
      "('Hidden Nodes: 100, ROC :', 0.58278209697433425, 'Training error: ', 0.35460000000000003, 'Validation error: ', 0.36029999999999995)\n",
      "('Hidden Nodes: 200, ROC :', 0.62632418546147317, 'Training error: ', 0.32530000000000003, 'Validation error: ', 0.32989999999999997)\n",
      "('Hidden Nodes: 300, ROC :', 0.55406237033970451, 'Training error: ', 0.33260000000000001, 'Validation error: ', 0.34079999999999999)\n",
      "('Hidden Nodes: 400, ROC :', 0.59296835698911254, 'Training error: ', 0.3296, 'Validation error: ', 0.33699999999999997)\n",
      "('Hidden Nodes: 500, ROC :', 0.59666992706311106, 'Training error: ', 0.32620000000000005, 'Validation error: ', 0.33430000000000004)\n",
      "('Hidden Nodes: 600, ROC :', 0.57839046994658072, 'Training error: ', 0.38780000000000003, 'Validation error: ', 0.38959999999999995)\n",
      "('Hidden Nodes: 700, ROC :', 0.56097818659886989, 'Training error: ', 0.33260000000000001, 'Validation error: ', 0.34360000000000002)\n",
      "('Hidden Nodes: 800, ROC :', 0.60226367240973033, 'Training error: ', 0.32820000000000005, 'Validation error: ', 0.33479999999999999)\n",
      "('Hidden Nodes: 900, ROC :', 0.62357562336572825, 'Training error: ', 0.33160000000000001, 'Validation error: ', 0.33889999999999998)\n",
      "('Hidden Nodes: 1000, ROC :', 0.63328402827700048, 'Training error: ', 0.32369999999999999, 'Validation error: ', 0.32989999999999997)\n"
     ]
    }
   ],
   "source": [
    "from sklearn import neural_network\n",
    "\n",
    "hiddenNodes = [100,200,300,400,500,600,700,800,900,1000]\n",
    "\n",
    "twoLayerErrorTrain = np.zeros(10)\n",
    "twoLayerErrorValid = np.zeros(10)\n",
    "threeLayerErrorTrain = np.zeros(10)\n",
    "threeLayerErrorValid = np.zeros(10)\n",
    "\n",
    "print( \"2 Layers \")\n",
    "for i,n in enumerate(hiddenNodes):\n",
    "    twoLayerModel = neural_network.MLPClassifier(hidden_layer_sizes=(n,n))\n",
    "    twoLayerModel.fit(Xtr, Ytr)\n",
    "    twoLayerModelRoc = metrics.roc_auc_score(Yval, twoLayerModel.predict_proba(Xval)[:,1])\n",
    "    errorTrain = 1 - twoLayerModel.score(Xtr, Ytr)\n",
    "    errorValid = 1 - twoLayerModel.score(Xval, Yval)\n",
    "    twoLayerErrorTrain[i] = errorTrain\n",
    "    twoLayerErrorValid[i] = errorValid\n",
    "    print(\"Hidden Nodes: \" + str(n) + \", ROC :\", twoLayerModelRoc, \"Training error: \", errorTrain, \"Validation error: \", errorValid)\n",
    "    \n",
    "print( \"3 Layers \")\n",
    "for i,n in enumerate(hiddenNodes):\n",
    "    threeLayerModel = neural_network.MLPClassifier(hidden_layer_sizes=(n,n,n))\n",
    "    threeLayerModel.fit(Xtr, Ytr)\n",
    "    threeLayerModelRoc = metrics.roc_auc_score(Yval, threeLayerModel.predict_proba(Xval)[:,1])\n",
    "    errorTrain = 1 - threeLayerModel.score(Xtr, Ytr)\n",
    "    errorValid = 1 - threeLayerModel.score(Xval, Yval)\n",
    "    threeLayerErrorTrain[i] = errorTrain\n",
    "    threeLayerErrorValid[i] = errorValid\n",
    "    print(\"Hidden Nodes: \" + str(n) + \", ROC :\", threeLayerModelRoc, \"Training error: \", errorTrain,\"Validation error: \", errorValid)"
   ]
  },
  {
   "cell_type": "code",
   "execution_count": 18,
   "metadata": {},
   "outputs": [
    {
     "data": {
      "image/png": "[encoded data removed]",
      "text/plain": [
       "<matplotlib.figure.Figure at 0x1a08621e10>"
      ]
     },
     "metadata": {},
     "output_type": "display_data"
    }
   ],
   "source": [
    "import matplotlib.pyplot as plt\n",
    "\n",
    "fig, ax = plt.subplots(1, 1, figsize=(8, 6))\n",
    "\n",
    "ax.semilogy(hiddenNodes,twoLayerErrorTrain,'r-',hiddenNodes,twoLayerErrorValid,'g-',linewidth=2);\n",
    "\n",
    "plt.xticks(hiddenNodes)\n",
    "plt.legend(['Training Error','Validation Error'],loc='lower left');\n",
    "plt.show()"
   ]
  },
  {
   "cell_type": "code",
   "execution_count": 19,
   "metadata": {
    "scrolled": true
   },
   "outputs": [
    {
     "data": {
      "image/png": "[encoded data removed]",
      "text/plain": [
       "<matplotlib.figure.Figure at 0x1a086bdf90>"
      ]
     },
     "metadata": {},
     "output_type": "display_data"
    }
   ],
   "source": [
    "fig, ax = plt.subplots(1, 1, figsize=(8, 6))\n",
    "ax.semilogy(hiddenNodes,threeLayerErrorTrain,'r-',hiddenNodes,threeLayerErrorValid,'g-',linewidth=2);\n",
    "\n",
    "plt.xticks(hiddenNodes)\n",
    "plt.legend(['Training Error','Validation Error'],loc='lower left');\n",
    "plt.show()"
   ]
  },
  {
   "cell_type": "markdown",
   "metadata": {},
   "source": [
    "## Naive Bayes"
   ]
  },
  {
   "cell_type": "code",
   "execution_count": 11,
   "metadata": {},
   "outputs": [
    {
     "name": "stdout",
     "output_type": "stream",
     "text": [
      "ROC : 0.6110667819479896\n",
      "Training Error:  0.38959374999999996\n",
      "Validation Error:  0.39007499999999995\n"
     ]
    }
   ],
   "source": [
    "from sklearn import naive_bayes\n",
    "\n",
    "nbgc = naive_bayes.GaussianNB()\n",
    "nbgc.fit(X, Y)\n",
    "nbgRoc = metrics.roc_auc_score(Yval, nbgc.predict_proba(Xval)[:,1])\n",
    "\n",
    "print(\"ROC :\", nbgRoc)\n",
    "print(\"Training Error: \", 1 - nbgc.score(Xtr, Ytr))\n",
    "print(\"Validation Error: \", 1 - nbgc.score(Xval, Yval))"
   ]
  },
  {
   "cell_type": "code",
   "execution_count": 28,
   "metadata": {},
   "outputs": [
    {
     "name": "stdout",
     "output_type": "stream",
     "text": [
      "$\n",
      "$\n",
      "$\n",
      "$\n",
      "$\n",
      "$\n",
      "$\n",
      "$\n",
      "(0.074904913643078913, 0.068827328667737844)\n",
      "0.963259478361\n"
     ]
    }
   ],
   "source": [
    "from sklearn import neural_network\n",
    "from sklearn import ensemble\n",
    "from sklearn import neighbors\n",
    "from sklearn.ensemble import BaggingRegressor\n",
    "from sklearn import model_selection\n",
    "from sklearn.metrics import mean_squared_error\n",
    "\n",
    "print( \"$\" )\n",
    "bestKnn = neighbors.KNeighborsClassifier(n_neighbors=20, weights=\"distance\", n_jobs=-1)\n",
    "print( \"$\" )\n",
    "bestNN = neural_network.MLPClassifier(hidden_layer_sizes=(1000,1000,1000))\n",
    "print( \"$\" )\n",
    "bestRFC = ensemble.RandomForestClassifier(\n",
    "    n_estimators=500, min_samples_leaf=1, n_jobs=-1, oob_score=True, max_depth=16)\n",
    "\n",
    "\n",
    "#bestKnn.fit(Xtr, Ytr)\n",
    "#bestNN.fit(Xtr, Ytr)\n",
    "#bestRFC.fit(Xtr, Ytr)\n",
    "\n",
    "#print(Ytr.shape)\n",
    "\n",
    "#estimators = []\n",
    "#knnP = bestKnn.predict(Xtr)\n",
    "\n",
    "#print(knnP.shape)\n",
    "#knnMSE = mean_squared_error(Ytr, knnP)\n",
    "#estimators.append(bestNN)\n",
    "#estimators.append(bestRFC.predict())\n",
    "\n",
    "#print( knnMSE )\n",
    "\n",
    "\n",
    "ensemble = [None]*3\n",
    "ensemble[0] = bestKnn\n",
    "ensemble[1] = bestNN\n",
    "ensemble[2] = bestRFC\n",
    "\n",
    "print( \"$\" )\n",
    "bagReg = BaggingRegressor(n_estimators=3)\n",
    "print( \"$\" )\n",
    "bagReg.estimators_ = ensemble\n",
    "print( \"$\" )\n",
    "yhatTr = bagReg.fit(Xtr,Ytr).predict(Xtr)\n",
    "print( \"$\" )\n",
    "yhatVa = bagReg.fit(Xval,Yval).predict(Xval)\n",
    "print( \"$\" )\n",
    "\n",
    "print( np.mean((Ytr - yhatTr)**2), np.mean((Yval - yhatVa)**2))\n",
    "\n",
    "ensembleRoc = metrics.roc_auc_score(Yval, bagReg.predict(Xval))\n",
    "print( ensembleRoc )\n",
    "\n",
    "Xte = np.genfromtxt('data/X_test.txt', delimiter=None)\n",
    "Yte = np.vstack((np.arange(Xte.shape[0]), bagReg.predict(Xte))).T\n",
    "\n",
    "# Output a file with two columns, a row ID and a confidence in class 1:\n",
    "#np.savetxt('Y_submit.txt',Yte,'%d, %.2f',header='ID,Prob1',comments='',delimiter=',')"
   ]
  },
  {
   "cell_type": "code",
   "execution_count": 15,
   "metadata": {},
   "outputs": [
    {
     "name": "stdout",
     "output_type": "stream",
     "text": [
      "0.6995063228550071\n",
      "Training Error:  0.3346069851959943\n",
      "Validation Error:  1.0378673370174776\n",
      "Done\n"
     ]
    }
   ],
   "source": [
    "from sklearn.ensemble import GradientBoostingClassifier\n",
    "from sklearn.ensemble import RandomForestClassifier\n",
    "from sklearn.ensemble import BaggingRegressor\n",
    "from sklearn import neighbors\n",
    "\n",
    "ensemble = [None]*3\n",
    "ensemble[0] = neighbors.KNeighborsClassifier(n_neighbors=10, weights=\"distance\", n_jobs=-1)\n",
    "ensemble[1] = RandomForestClassifier(n_estimators=500, min_samples_leaf=5, n_jobs=-1, oob_score=True)\n",
    "ensemble[2] = GradientBoostingClassifier(n_estimators=2000, learning_rate=1, max_depth=400,max_leaf_nodes=40)\n",
    "\n",
    "bagReg = BaggingRegressor(n_estimators=3)\n",
    "bagReg.estimators_ = ensemble\n",
    "\n",
    "bagReg.fit(Xtr,Ytr)\n",
    "ensembleRoc = metrics.roc_auc_score(Yval, bagReg.predict(Xval))\n",
    "\n",
    "print( ensembleRoc )\n",
    "print(\"Training Error: \", 1 - bagReg.score(Xtr, Ytr))\n",
    "print(\"Validation Error: \", 1 - bagReg.score(Xval, Yval))\n",
    "\n",
    "\n",
    "\n",
    "Xte = np.genfromtxt('data/X_test.txt', delimiter=None)\n",
    "Yte = np.vstack((np.arange(Xte.shape[0]), bagReg.predict(Xte))).T\n",
    "np.savetxt('Y_submit.txt',Yte,'%d, %.2f',header='ID,Prob1',comments='',delimiter=',')\n",
    "\n",
    "print(\"Done\")"
   ]
  },
  {
   "cell_type": "markdown",
   "metadata": {},
   "source": [
    "## Ensemble Voting"
   ]
  },
  {
   "cell_type": "code",
   "execution_count": 9,
   "metadata": {},
   "outputs": [
    {
     "name": "stderr",
     "output_type": "stream",
     "text": [
      "C:\\Users\\shwil\\Anaconda3\\lib\\site-packages\\sklearn\\preprocessing\\label.py:151: DeprecationWarning: The truth value of an empty array is ambiguous. Returning False, but in future this will result in an error. Use `array.size > 0` to check that an array is not empty.\n",
      "  if diff:\n"
     ]
    },
    {
     "name": "stdout",
     "output_type": "stream",
     "text": [
      "ROC : 0.6872247044438905\n"
     ]
    },
    {
     "name": "stderr",
     "output_type": "stream",
     "text": [
      "C:\\Users\\shwil\\Anaconda3\\lib\\site-packages\\sklearn\\preprocessing\\label.py:151: DeprecationWarning: The truth value of an empty array is ambiguous. Returning False, but in future this will result in an error. Use `array.size > 0` to check that an array is not empty.\n",
      "  if diff:\n"
     ]
    },
    {
     "name": "stdout",
     "output_type": "stream",
     "text": [
      "Training Error:  0.05828124999999995\n"
     ]
    },
    {
     "name": "stderr",
     "output_type": "stream",
     "text": [
      "C:\\Users\\shwil\\Anaconda3\\lib\\site-packages\\sklearn\\preprocessing\\label.py:151: DeprecationWarning: The truth value of an empty array is ambiguous. Returning False, but in future this will result in an error. Use `array.size > 0` to check that an array is not empty.\n",
      "  if diff:\n"
     ]
    },
    {
     "name": "stdout",
     "output_type": "stream",
     "text": [
      "Validation Error:  0.26417500000000005\n"
     ]
    },
    {
     "name": "stderr",
     "output_type": "stream",
     "text": [
      "C:\\Users\\shwil\\Anaconda3\\lib\\site-packages\\sklearn\\preprocessing\\label.py:151: DeprecationWarning: The truth value of an empty array is ambiguous. Returning False, but in future this will result in an error. Use `array.size > 0` to check that an array is not empty.\n",
      "  if diff:\n"
     ]
    }
   ],
   "source": [
    "from sklearn.ensemble import VotingClassifier\n",
    "from sklearn.ensemble import GradientBoostingClassifier\n",
    "from sklearn import ensemble\n",
    "\n",
    "clf1 = neighbors.KNeighborsClassifier(n_neighbors=10, weights=\"distance\", n_jobs=-1)\n",
    "clf2 = ensemble.RandomForestClassifier(n_estimators=500, min_samples_leaf=5, n_jobs=-1, oob_score=True)\n",
    "clf3 = GradientBoostingClassifier(n_estimators=2000, learning_rate=1, max_depth=400,max_leaf_nodes=40)\n",
    "\n",
    "hardVoting = VotingClassifier(estimators=[('knn', clf1), ('rf', clf2), ('gb', clf3)], voting='soft')\n",
    "hardVoting.fit(Xtr, Ytr)\n",
    "\n",
    "hardVotingRoc = metrics.roc_auc_score(Yval, hardVoting.predict(Xval))\n",
    "\n",
    "print(\"ROC :\", hardVotingRoc)\n",
    "print(\"Training Error: \", 1 - hardVoting.score(Xtr, Ytr))\n",
    "print(\"Validation Error: \", 1 - hardVoting.score(Xval, Yval))\n",
    "\n",
    "Xte = np.genfromtxt('data/X_test.txt', delimiter=None)\n",
    "Yte = np.vstack((np.arange(Xte.shape[0]), hardVoting.predict(Xte))).T\n",
    "\n",
    "np.savetxt('Y_submit.txt',Yte,'%d, %.2f',header='ID,Prob1',comments='',delimiter=',')"
   ]
  },
  {
   "cell_type": "code",
   "execution_count": null,
   "metadata": {},
   "outputs": [],
   "source": []
  }
 ],
 "metadata": {
  "kernelspec": {
   "display_name": "Python 3",
   "language": "python",
   "name": "python3"
  },
  "language_info": {
   "codemirror_mode": {
    "name": "ipython",
    "version": 3
   },
   "file_extension": ".py",
   "mimetype": "text/x-python",
   "name": "python",
   "nbconvert_exporter": "python",
   "pygments_lexer": "ipython3",
   "version": "3.6.4"
  }
 },
 "nbformat": 4,
 "nbformat_minor": 2
}
