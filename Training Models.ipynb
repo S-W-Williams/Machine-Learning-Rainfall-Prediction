{
 "cells": [
  {
   "cell_type": "markdown",
   "metadata": {},
   "source": [
    "# Training Model Examples"
   ]
  },
  {
   "cell_type": "markdown",
   "metadata": {},
   "source": [
    "## K-Nearest Neighbors"
   ]
  },
  {
   "cell_type": "code",
   "execution_count": 25,
   "metadata": {},
   "outputs": [
    {
     "name": "stdout",
     "output_type": "stream",
     "text": [
      "ROC : 0.585716254583 Training error:  0.0062 Validation error:  0.373\n",
      "ROC : 0.607340444885 Training error:  0.0062 Validation error:  0.3725\n",
      "ROC : 0.614868193721 Training error:  0.0059 Validation error:  0.3593\n",
      "ROC : 0.623432685576 Training error:  0.0059 Validation error:  0.3492\n",
      "ROC : 0.630496518647 Training error:  0.0059 Validation error:  0.3411\n",
      "ROC : 0.631805066292 Training error:  0.0059 Validation error:  0.336\n",
      "ROC : 0.63483055211 Training error:  0.0059 Validation error:  0.3324\n"
     ]
    }
   ],
   "source": [
    "import numpy as np\n",
    "from sklearn import neighbors\n",
    "from sklearn import metrics\n",
    "from sklearn.utils import shuffle\n",
    "\n",
    "\n",
    "X = np.genfromtxt('data/X_train.txt', delimiter=None)\n",
    "Y = np.genfromtxt('data/Y_train.txt', delimiter=None)\n",
    "\n",
    "X,Y = shuffle(X, Y)\n",
    "\n",
    "Xtr = X[:10000,:]\n",
    "Ytr = Y[:10000]\n",
    "\n",
    "Xval = X[10000:20000]\n",
    "Yval = Y[10000:20000]\n",
    "\n",
    "knnN = [1, 2, 3, 5, 10, 15, 20]\n",
    "for n in knnN:\n",
    "    knnClassifier = neighbors.KNeighborsClassifier(n_neighbors=n, weights=\"distance\", n_jobs=-1)\n",
    "    knnClassifier.fit(Xtr, Ytr)\n",
    "\n",
    "    Yhat = knnClassifier.predict_proba(Xval)[:,1]\n",
    "\n",
    "    print(\"ROC :\", metrics.roc_auc_score(Yval, Yhat), \"Training error: \", 1 - knnClassifier.score(Xtr, Ytr), \"Validation error: \", 1 - knnClassifier.score(Xval, Yval))"
   ]
  },
  {
   "cell_type": "markdown",
   "metadata": {},
   "source": [
    "## Random Forest"
   ]
  },
  {
   "cell_type": "code",
   "execution_count": 23,
   "metadata": {},
   "outputs": [
    {
     "name": "stdout",
     "output_type": "stream",
     "text": [
      "ROC : 0.696520420545\n",
      "Training Error:  0.1295\n",
      "Validation Error:  0.3047\n"
     ]
    }
   ],
   "source": [
    "from sklearn import ensemble\n",
    "\n",
    "rfc = ensemble.RandomForestClassifier(\n",
    "    n_estimators=500, min_samples_leaf=5, n_jobs=-1, oob_score=True)\n",
    "\n",
    "rfc.fit(Xtr, Ytr)\n",
    "\n",
    "rfcRoc = metrics.roc_auc_score(Yval, rfc.predict_proba(Xval)[:,1])\n",
    "\n",
    "print(\"ROC :\", rfcRoc)\n",
    "print(\"Training Error: \", 1 - rfc.score(Xtr, Ytr))\n",
    "print(\"Validation Error: \", 1 - rfc.score(Xval, Yval))"
   ]
  },
  {
   "cell_type": "markdown",
   "metadata": {},
   "source": [
    "## Neural network"
   ]
  },
  {
   "cell_type": "code",
   "execution_count": 21,
   "metadata": {},
   "outputs": [
    {
     "name": "stdout",
     "output_type": "stream",
     "text": [
      "ROC : 0.609586047413\n",
      "Training error:  0.3834\n",
      "Validation error:  0.3955\n"
     ]
    }
   ],
   "source": [
    "from sklearn import neural_network\n",
    "\n",
    "mlpc = neural_network.MLPClassifier(hidden_layer_sizes=(100,))\n",
    "mlpc.fit(Xtr, Ytr)\n",
    "mlpRoc = metrics.roc_auc_score(Yval, mlpc.predict_proba(Xval)[:,1])\n",
    "\n",
    "print(\"ROC :\", mlpRoc)\n",
    "print(\"Training error: \", 1 - mlpc.score(Xtr, Ytr))\n",
    "print(\"Validation error: \", 1 - mlpc.score(Xval, Yval))"
   ]
  },
  {
   "cell_type": "markdown",
   "metadata": {},
   "source": [
    "## Naive Bayes"
   ]
  },
  {
   "cell_type": "code",
   "execution_count": 22,
   "metadata": {},
   "outputs": [
    {
     "name": "stdout",
     "output_type": "stream",
     "text": [
      "ROC : 0.695675438847\n",
      "Training Error:  0.3885\n",
      "Validation Error:  0.391\n"
     ]
    }
   ],
   "source": [
    "from sklearn import naive_bayes\n",
    "\n",
    "nbgc = naive_bayes.GaussianNB()\n",
    "nbgc.fit(X, Y)\n",
    "nbgRoc = metrics.roc_auc_score(Yval, nbgc.predict_proba(Xval)[:,1])\n",
    "\n",
    "print(\"ROC :\", rfcRoc)\n",
    "print(\"Training Error: \", 1 - nbgc.score(Xtr, Ytr))\n",
    "print(\"Validation Error: \", 1 - nbgc.score(Xval, Yval))"
   ]
  },
  {
   "cell_type": "code",
   "execution_count": null,
   "metadata": {
    "collapsed": true
   },
   "outputs": [],
   "source": []
  }
 ],
 "metadata": {
  "kernelspec": {
   "display_name": "Python 3",
   "language": "python",
   "name": "python3"
  },
  "language_info": {
   "codemirror_mode": {
    "name": "ipython",
    "version": 3
   },
   "file_extension": ".py",
   "mimetype": "text/x-python",
   "name": "python",
   "nbconvert_exporter": "python",
   "pygments_lexer": "ipython3",
   "version": "3.6.3"
  }
 },
 "nbformat": 4,
 "nbformat_minor": 2
}
