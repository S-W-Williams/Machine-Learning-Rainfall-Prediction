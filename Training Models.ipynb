{
 "cells": [
  {
   "cell_type": "markdown",
   "metadata": {},
   "source": [
    "# Training Model Examples"
   ]
  },
  {
   "cell_type": "markdown",
   "metadata": {},
   "source": [
    "## K-Nearest Neighbors"
   ]
  },
  {
   "cell_type": "code",
   "execution_count": 25,
   "metadata": {},
   "outputs": [
    {
     "name": "stdout",
     "output_type": "stream",
     "text": [
      "ROC : 0.585716254583 Training error:  0.0062 Validation error:  0.373\n",
      "ROC : 0.607340444885 Training error:  0.0062 Validation error:  0.3725\n",
      "ROC : 0.614868193721 Training error:  0.0059 Validation error:  0.3593\n",
      "ROC : 0.623432685576 Training error:  0.0059 Validation error:  0.3492\n",
      "ROC : 0.630496518647 Training error:  0.0059 Validation error:  0.3411\n",
      "ROC : 0.631805066292 Training error:  0.0059 Validation error:  0.336\n",
      "ROC : 0.63483055211 Training error:  0.0059 Validation error:  0.3324\n"
     ]
    }
   ],
   "source": [
    "import numpy as np\n",
    "from sklearn import neighbors\n",
    "from sklearn import metrics\n",
    "from sklearn.utils import shuffle\n",
    "\n",
    "\n",
    "X = np.genfromtxt('data/X_train.txt', delimiter=None)\n",
    "Y = np.genfromtxt('data/Y_train.txt', delimiter=None)\n",
    "\n",
    "X,Y = shuffle(X, Y)\n",
    "\n",
    "Xtr = X[:10000,:]\n",
    "Ytr = Y[:10000]\n",
    "\n",
    "Xval = X[10000:20000]\n",
    "Yval = Y[10000:20000]\n",
    "\n",
    "knnN = [1, 2, 3, 5, 10, 15, 20]\n",
    "for n in knnN:\n",
    "    knnClassifier = neighbors.KNeighborsClassifier(n_neighbors=n, weights=\"distance\", n_jobs=-1)\n",
    "    knnClassifier.fit(Xtr, Ytr)\n",
    "\n",
    "    Yhat = knnClassifier.predict_proba(Xval)[:,1]\n",
    "\n",
    "    print(\"ROC :\", metrics.roc_auc_score(Yval, Yhat), \"Training error: \", 1 - knnClassifier.score(Xtr, Ytr), \"Validation error: \", 1 - knnClassifier.score(Xval, Yval))"
   ]
  },
  {
   "cell_type": "markdown",
   "metadata": {},
   "source": [
    "## Random Forest"
   ]
  },
  {
   "cell_type": "code",
   "execution_count": 23,
   "metadata": {},
   "outputs": [
    {
     "name": "stdout",
     "output_type": "stream",
     "text": [
      "ROC : 0.696520420545\n",
      "Training Error:  0.1295\n",
      "Validation Error:  0.3047\n"
     ]
    }
   ],
   "source": [
    "from sklearn import ensemble\n",
    "\n",
    "rfc = ensemble.RandomForestClassifier(\n",
    "    n_estimators=500, min_samples_leaf=5, n_jobs=-1, oob_score=True)\n",
    "\n",
    "rfc.fit(Xtr, Ytr)\n",
    "\n",
    "rfcRoc = metrics.roc_auc_score(Yval, rfc.predict_proba(Xval)[:,1])\n",
    "\n",
    "print(\"ROC :\", rfcRoc)\n",
    "print(\"Training Error: \", 1 - rfc.score(Xtr, Ytr))\n",
    "print(\"Validation Error: \", 1 - rfc.score(Xval, Yval))"
   ]
  },
  {
   "cell_type": "markdown",
   "metadata": {},
   "source": [
    "## Neural network"
   ]
  },
  {
   "cell_type": "code",
   "execution_count": 4,
   "metadata": {},
   "outputs": [
    {
     "name": "stdout",
     "output_type": "stream",
     "text": [
      "2 Layers \n",
      "('Hidden Nodes: 100, ROC :', 0.53406107692307692, 'Training error: ', 0.33589999999999998, 'Validation error: ', 0.34140000000000004)\n",
      "('Hidden Nodes: 200, ROC :', 0.58897450549450547, 'Training error: ', 0.32920000000000005, 'Validation error: ', 0.33530000000000004)\n",
      "('Hidden Nodes: 300, ROC :', 0.61125767032967038, 'Training error: ', 0.35460000000000003, 'Validation error: ', 0.36009999999999998)\n",
      "('Hidden Nodes: 400, ROC :', 0.49531958241758239, 'Training error: ', 0.34279999999999999, 'Validation error: ', 0.3468)\n",
      "('Hidden Nodes: 500, ROC :', 0.57363252747252746, 'Training error: ', 0.33979999999999999, 'Validation error: ', 0.34179999999999999)\n",
      "('Hidden Nodes: 600, ROC :', 0.57990276923076922, 'Training error: ', 0.62490000000000001, 'Validation error: ', 0.62359999999999993)\n",
      "('Hidden Nodes: 700, ROC :', 0.56125274725274721, 'Training error: ', 0.52800000000000002, 'Validation error: ', 0.5363)\n",
      "('Hidden Nodes: 800, ROC :', 0.59888718681318676, 'Training error: ', 0.48319999999999996, 'Validation error: ', 0.4859)\n",
      "('Hidden Nodes: 900, ROC :', 0.56165019780219783, 'Training error: ', 0.54170000000000007, 'Validation error: ', 0.54580000000000006)\n",
      "('Hidden Nodes: 1000, ROC :', 0.5681018901098901, 'Training error: ', 0.48740000000000006, 'Validation error: ', 0.49199999999999999)\n",
      "3 Layers \n",
      "('Hidden Nodes: 100, ROC :', 0.53394112087912093, 'Training error: ', 0.33789999999999998, 'Validation error: ', 0.34240000000000004)\n",
      "('Hidden Nodes: 200, ROC :', 0.59628560439560441, 'Training error: ', 0.39770000000000005, 'Validation error: ', 0.41059999999999997)\n",
      "('Hidden Nodes: 300, ROC :', 0.61998094505494505, 'Training error: ', 0.37949999999999995, 'Validation error: ', 0.38339999999999996)\n",
      "('Hidden Nodes: 400, ROC :', 0.59764586813186804, 'Training error: ', 0.3528, 'Validation error: ', 0.35860000000000003)\n",
      "('Hidden Nodes: 500, ROC :', 0.60811584615384617, 'Training error: ', 0.32940000000000003, 'Validation error: ', 0.33689999999999998)\n",
      "('Hidden Nodes: 600, ROC :', 0.63214241758241752, 'Training error: ', 0.32869999999999999, 'Validation error: ', 0.33620000000000005)\n",
      "('Hidden Nodes: 700, ROC :', 0.60260389010989002, 'Training error: ', 0.36040000000000005, 'Validation error: ', 0.36699999999999999)\n",
      "('Hidden Nodes: 800, ROC :', 0.57327131868131864, 'Training error: ', 0.33689999999999998, 'Validation error: ', 0.33999999999999997)\n",
      "('Hidden Nodes: 900, ROC :', 0.63318698901098902, 'Training error: ', 0.32369999999999999, 'Validation error: ', 0.33160000000000001)\n",
      "('Hidden Nodes: 1000, ROC :', 0.57675773626373628, 'Training error: ', 0.39770000000000005, 'Validation error: ', 0.40029999999999999)\n"
     ]
    }
   ],
   "source": [
    "from sklearn import neural_network\n",
    "\n",
    "hiddenNodes = [100,200,300,400,500,600,700,800,900,1000]\n",
    "\n",
    "print( \"2 Layers \")\n",
    "for i in hiddenNodes:\n",
    "    twoLayerModel = neural_network.MLPClassifier(hidden_layer_sizes=(i,i))\n",
    "    twoLayerModel.fit(Xtr, Ytr)\n",
    "    twoLayerModelRoc = metrics.roc_auc_score(Yval, twoLayerModel.predict_proba(Xval)[:,1])\n",
    "    print(\"Hidden Nodes: \" + str(i) + \", ROC :\", twoLayerModelRoc, \"Training error: \", 1 - twoLayerModel.score(Xtr, Ytr),\"Validation error: \", 1 - twoLayerModel.score(Xval, Yval))\n",
    "    \n",
    "print( \"3 Layers \")\n",
    "for i in hiddenNodes:\n",
    "    threeLayerModel = neural_network.MLPClassifier(hidden_layer_sizes=(i,i,i))\n",
    "    threeLayerModel.fit(Xtr, Ytr)\n",
    "    threeLayerModelRoc = metrics.roc_auc_score(Yval, threeLayerModel.predict_proba(Xval)[:,1])\n",
    "    print(\"Hidden Nodes: \" + str(i) + \", ROC :\", threeLayerModelRoc, \"Training error: \", 1 - threeLayerModel.score(Xtr, Ytr),\"Validation error: \", 1 - threeLayerModel.score(Xval, Yval))"
   ]
  },
  {
   "cell_type": "markdown",
   "metadata": {},
   "source": [
    "## Naive Bayes"
   ]
  },
  {
   "cell_type": "code",
   "execution_count": 22,
   "metadata": {},
   "outputs": [
    {
     "name": "stdout",
     "output_type": "stream",
     "text": [
      "ROC : 0.695675438847\n",
      "Training Error:  0.3885\n",
      "Validation Error:  0.391\n"
     ]
    }
   ],
   "source": [
    "from sklearn import naive_bayes\n",
    "\n",
    "nbgc = naive_bayes.GaussianNB()\n",
    "nbgc.fit(X, Y)\n",
    "nbgRoc = metrics.roc_auc_score(Yval, nbgc.predict_proba(Xval)[:,1])\n",
    "\n",
    "print(\"ROC :\", rfcRoc)\n",
    "print(\"Training Error: \", 1 - nbgc.score(Xtr, Ytr))\n",
    "print(\"Validation Error: \", 1 - nbgc.score(Xval, Yval))"
   ]
  },
  {
   "cell_type": "code",
   "execution_count": null,
   "metadata": {
    "collapsed": true
   },
   "outputs": [],
   "source": []
  }
 ],
 "metadata": {
  "kernelspec": {
   "display_name": "Python 3",
   "language": "python",
   "name": "python3"
  },
  "language_info": {
   "codemirror_mode": {
    "name": "ipython",
    "version": 3
   },
   "file_extension": ".py",
   "mimetype": "text/x-python",
   "name": "python",
   "nbconvert_exporter": "python",
   "pygments_lexer": "ipython3",
   "version": "3.6.3"
  }
 },
 "nbformat": 4,
 "nbformat_minor": 2
}
